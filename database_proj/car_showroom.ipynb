{
 "cells": [
  {
   "cell_type": "code",
   "execution_count": null,
   "metadata": {},
   "outputs": [],
   "source": [
    "from validation import *\n",
    "check_username()\n",
    "check_password()\n",
    "check_Name()\n",
    "check_phone()\n",
    "check_email()\n",
    "check_licno()\n",
    "check_Aadhaar()\n",
    "check_city()\n",
    "check_pin()\n",
    "check_state()\n",
    "check_Cname()\n",
    "check_model()\n",
    "check_color()\n",
    "check_price()\n",
    "check_fuel()"
   ]
  }
 ],
 "metadata": {
  "kernelspec": {
   "display_name": "Python 3",
   "language": "python",
   "name": "python3"
  },
  "language_info": {
   "name": "python",
   "version": "3.12.1"
  }
 },
 "nbformat": 4,
 "nbformat_minor": 2
}
