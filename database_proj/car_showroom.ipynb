{
 "cells": [
  {
   "cell_type": "code",
   "execution_count": 1,
   "metadata": {},
   "outputs": [
    {
     "name": "stdout",
     "output_type": "stream",
     "text": [
      "Username validation successfull\n",
      "Password validation successfull\n",
      "Name validation successfull\n",
      "Phone validation successfull\n",
      "Email validation successfull\n",
      "License validation successfull\n",
      "Aadhaar validation successfull\n",
      "City validation successfull\n",
      "PinCode validation successfull\n",
      "State validation successfull\n",
      "Company Name validation successfull\n",
      "Model validation successfull\n",
      "Color validation successfull\n",
      "Price validation successfull\n",
      "Fuel validation successfull\n"
     ]
    }
   ],
   "source": [
    "from validation import *\n",
    "\n",
    "print(Val_username(\"Abhi123\"))\n",
    "print(Val_password(\"Abhi123456\"))\n",
    "print(Val_name(\"Abhi\"))\n",
    "print(Val_phone(\"1234567890\"))\n",
    "print(Val_email(\"Abhi@gmail.com\"))\n",
    "print(Val_lic(\"MH1212345678900\"))\n",
    "print(Val_aadhaar(\"123456789009\"))\n",
    "print(Val_city(\"Pune\"))\n",
    "print(Val_pincode(\"123456\"))\n",
    "print(Val_state(\"Maha\"))\n",
    "print(Val_Cname(\"BMW\"))\n",
    "print(Val_Model(\"M5\"))\n",
    "print(Val_Color(\"Green\"))\n",
    "print(Val_Price(\"10cr\"))\n",
    "print(Val_Fuel(\"Diesel\"))"
   ]
  }
 ],
 "metadata": {
  "kernelspec": {
   "display_name": "Python 3",
   "language": "python",
   "name": "python3"
  },
  "language_info": {
   "codemirror_mode": {
    "name": "ipython",
    "version": 3
   },
   "file_extension": ".py",
   "mimetype": "text/x-python",
   "name": "python",
   "nbconvert_exporter": "python",
   "pygments_lexer": "ipython3",
   "version": "3.12.1"
  }
 },
 "nbformat": 4,
 "nbformat_minor": 2
}
