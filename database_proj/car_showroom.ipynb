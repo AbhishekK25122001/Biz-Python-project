{
 "cells": [
  {
   "cell_type": "code",
   "execution_count": 1,
   "metadata": {},
   "outputs": [
    {
     "name": "stdout",
     "output_type": "stream",
     "text": [
      "Incorrect name! First letter must be capital followed by smaller case letters\n",
      "Invalid Phone! Please Enter correct 10 digit phone number\n",
      "Invalid Email ID! Please Enter valid Email ID!\n",
      "Invalid License number! License No. should be in format[2-state letter] [2-RTO area no.] [11 digits of LICense no.]\n",
      "Invalid Aadhaar number! Adhaar no. must be correct and contain 12 digits\n",
      "Invalid Pin code! Enter 6 digit pincode only\n",
      "Registeration Successfull\n"
     ]
    }
   ],
   "source": [
    "from validation import *\n",
    "check_username()\n",
    "check_password()\n",
    "check_Name()\n",
    "check_phone()\n",
    "check_email()\n",
    "check_licno()\n",
    "check_Aadhaar()\n",
    "check_city()\n",
    "check_pin()\n",
    "check_state()\n",
    "check_Cname()\n",
    "check_model()\n",
    "check_color()\n",
    "check_price()\n",
    "check_fuel()"
   ]
  }
 ],
 "metadata": {
  "kernelspec": {
   "display_name": "Python 3",
   "language": "python",
   "name": "python3"
  },
  "language_info": {
   "codemirror_mode": {
    "name": "ipython",
    "version": 3
   },
   "file_extension": ".py",
   "mimetype": "text/x-python",
   "name": "python",
   "nbconvert_exporter": "python",
   "pygments_lexer": "ipython3",
   "version": "3.12.1"
  }
 },
 "nbformat": 4,
 "nbformat_minor": 2
}
